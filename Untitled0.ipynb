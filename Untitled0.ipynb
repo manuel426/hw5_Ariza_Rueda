{
 "metadata": {
  "name": "",
  "signature": "sha256:5b7f12ec6784260e54b3fdb9845356480a27aca3ca6122e54ba6da0a76d04bd2"
 },
 "nbformat": 3,
 "nbformat_minor": 0,
 "worksheets": [
  {
   "cells": [
    {
     "cell_type": "code",
     "collapsed": false,
     "input": [
      "%pylab inline\n",
      "import matplotlib.pyplot as plt"
     ],
     "language": "python",
     "metadata": {},
     "outputs": [
      {
       "output_type": "stream",
       "stream": "stdout",
       "text": [
        "Populating the interactive namespace from numpy and matplotlib\n"
       ]
      }
     ],
     "prompt_number": 14
    },
    {
     "cell_type": "code",
     "collapsed": false,
     "input": [
      "Im1 = pylab.imread(\"20_popc_cho009-1.tif\")\n",
      "fig = figure(1, figsize=(10.5,8.5))\n",
      "imshow(Im1[:,:], cmap = cm.Greys_r)\n",
      "plt.title('Imagen Original', fontsize=12)"
     ],
     "language": "python",
     "metadata": {},
     "outputs": [],
     "prompt_number": 15
    },
    {
     "cell_type": "code",
     "collapsed": false,
     "input": [
      "Im1 = pylab.imread(\"colesterol-1.tif\")\n",
      "fig = figure(1, figsize=(10.5,8.5))\n",
      "imshow(Im1[:,:], cmap = cm.Greys_r)\n",
      "plt.title('Imagen Original', fontsize=12)"
     ],
     "language": "python",
     "metadata": {},
     "outputs": [],
     "prompt_number": 16
    },
    {
     "cell_type": "code",
     "collapsed": false,
     "input": [],
     "language": "python",
     "metadata": {},
     "outputs": []
    }
   ],
   "metadata": {}
  }
 ]
}