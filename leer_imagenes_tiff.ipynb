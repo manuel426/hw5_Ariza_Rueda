{
 "metadata": {
  "name": "",
  "signature": "sha256:f4f381a1f99ba57ab758560d3f17207a4b802c83aff9efa7fd49d76f92701bfa"
 },
 "nbformat": 3,
 "nbformat_minor": 0,
 "worksheets": [
  {
   "cells": [
    {
     "cell_type": "code",
     "collapsed": false,
     "input": [
      "%pylab inline\n",
      "import matplotlib.pyplot as plt\n",
      "import numpy as np"
     ],
     "language": "python",
     "metadata": {},
     "outputs": [
      {
       "output_type": "stream",
       "stream": "stdout",
       "text": [
        "Populating the interactive namespace from numpy and matplotlib\n"
       ]
      }
     ],
     "prompt_number": 5
    },
    {
     "cell_type": "code",
     "collapsed": false,
     "input": [
      "Im1 = pylab.imread(\"20_popc_cho009-1.tif\")\n",
      "fig = figure(1, figsize=(10.5,8.5))\n",
      "imshow(Im1[:,:], cmap = cm.Greys_r)\n",
      "plt.title('Imagen Original', fontsize=12)"
     ],
     "language": "python",
     "metadata": {},
     "outputs": [],
     "prompt_number": 7
    },
    {
     "cell_type": "code",
     "collapsed": false,
     "input": [
      "Fourier1alto=np.fft.fft2(Im1)\n",
      "Fourier1bajo=np.fft.fft2(Im1)\n",
      "#Transformadas de Fourier para pasaltos y pasabajos"
     ],
     "language": "python",
     "metadata": {},
     "outputs": [],
     "prompt_number": 9
    },
    {
     "cell_type": "code",
     "collapsed": false,
     "input": [
      "minfrec=20 #Frecuencia pasabajos\n",
      "maxfrec=40 #Frecuencia pasaltos\n",
      "fila1,col1=Im1.shape\n",
      "\n",
      "#Con pasaltos\n",
      "for i in range (fila1):\n",
      "    for j in range (col1):\n",
      "        if( (((i)**2 + (j)**2))**0.5 > maxfrec):\n",
      "            Fourier1alto[i][j] = 0"
     ],
     "language": "python",
     "metadata": {},
     "outputs": [],
     "prompt_number": 6
    },
    {
     "cell_type": "code",
     "collapsed": false,
     "input": [
      "#Con pasabajos\n",
      "for i in range (fila1):\n",
      "    for j in range (col1):\n",
      "        if( (((i)**2 + (j)**2))**0.5 < minfrec):\n",
      "            Fourier1bajo[i][j] = 0"
     ],
     "language": "python",
     "metadata": {},
     "outputs": [],
     "prompt_number": 6
    },
    {
     "cell_type": "code",
     "collapsed": false,
     "input": [
      "imshow(Fourier1alto[:,:], cmap = cm.Greys_r)\n",
      "plt.title('Imagen Pasaltos Fourier', fontsize=12)\n",
      "imshow(Fourier1bajo[:,:], cmap = cm.Greys_r)\n",
      "plt.title('Imagen Pasabajos Fourier', fontsize=12)"
     ],
     "language": "python",
     "metadata": {},
     "outputs": [],
     "prompt_number": 6
    },
    {
     "cell_type": "code",
     "collapsed": false,
     "input": [
      "Ifourieralto1=np.fft.ifft2(Fourier1alto)\n",
      "Ifourierbajo1=np.fft.ifft2(Fourier1bajo)\n",
      "\n",
      "imshow(Ifourieralto1[:,:], cmap = cm.Greys_r)\n",
      "plt.title('Imagen Pasaltos', fontsize=12)\n",
      "imshow(Ifourierbajo1[:,:], cmap = cm.Greys_r)\n",
      "plt.title('Imagen Pasabajos', fontsize=12)"
     ],
     "language": "python",
     "metadata": {},
     "outputs": []
    },
    {
     "cell_type": "code",
     "collapsed": false,
     "input": [],
     "language": "python",
     "metadata": {},
     "outputs": [],
     "prompt_number": 9
    },
    {
     "cell_type": "code",
     "collapsed": false,
     "input": [
      "Im2 = pylab.imread(\"colesterol-1.tif\")\n",
      "fig = figure(1, figsize=(10.5,8.5))\n",
      "imshow(Im2[:,:], cmap = cm.Greys_r)\n",
      "plt.title('Imagen Original', fontsize=12)"
     ],
     "language": "python",
     "metadata": {},
     "outputs": [],
     "prompt_number": 10
    },
    {
     "cell_type": "code",
     "collapsed": false,
     "input": [
      "Fourier2alto=np.fft.fft2(Im2)\n",
      "Fourier2bajo=np.fft.fft2(Im2)\n",
      "#Transformadas de Fourier para pasaltos y pasabajos"
     ],
     "language": "python",
     "metadata": {},
     "outputs": [],
     "prompt_number": 11
    },
    {
     "cell_type": "code",
     "collapsed": false,
     "input": [
      "fila,col=Im2.shape"
     ],
     "language": "python",
     "metadata": {},
     "outputs": [],
     "prompt_number": 12
    },
    {
     "cell_type": "code",
     "collapsed": false,
     "input": [
      "#Con pasaltos\n",
      "for i in range (fila2):\n",
      "    for j in range (col2):\n",
      "        if( (((i)**2 + (j)**2))**0.5 > maxfrec):\n",
      "            Fourier2alto[i][j] = 0\n",
      "            #Con pasabajos\n",
      "for i in range (fila2):\n",
      "    for j in range (col2):\n",
      "        if( (((i)**2 + (j)**2))**0.5 < minfrec):\n",
      "            Fourier2bajo[i][j] = 0"
     ],
     "language": "python",
     "metadata": {},
     "outputs": []
    },
    {
     "cell_type": "code",
     "collapsed": false,
     "input": [
      "imshow(Fourier2alto[:,:], cmap = cm.Greys_r)\n",
      "plt.title('Imagen Pasaltos Fourier', fontsize=12)\n",
      "imshow(Fourier2bajo[:,:], cmap = cm.Greys_r)\n",
      "plt.title('Imagen Pasabajos Fourier', fontsize=12)"
     ],
     "language": "python",
     "metadata": {},
     "outputs": [],
     "prompt_number": 13
    },
    {
     "cell_type": "code",
     "collapsed": false,
     "input": [
      "Ifourieralto2=np.fft.ifft2(Fourier2alto)\n",
      "Ifourierbajo2=np.fft.ifft2(Fourier2bajo)\n",
      "\n",
      "imshow(Ifourieralto2[:,:], cmap = cm.Greys_r)\n",
      "plt.title('Imagen Pasaltos', fontsize=12)\n",
      "imshow(Ifourierbajo2[:,:], cmap = cm.Greys_r)\n",
      "plt.title('Imagen Pasabajos', fontsize=12)"
     ],
     "language": "python",
     "metadata": {},
     "outputs": []
    },
    {
     "cell_type": "code",
     "collapsed": false,
     "input": [],
     "language": "python",
     "metadata": {},
     "outputs": []
    },
    {
     "cell_type": "code",
     "collapsed": false,
     "input": [],
     "language": "python",
     "metadata": {},
     "outputs": [],
     "prompt_number": 13
    },
    {
     "cell_type": "code",
     "collapsed": false,
     "input": [
      "Im3 = pylab.imread(\"ves_full_150_002-1.tif\")\n",
      "fig = figure(1, figsize=(10.5,8.5))\n",
      "imshow(Im3[:,:], cmap = cm.Greys_r)hhhhhh\n",
      "plt.title('Imagen Original', fontsize=12)"
     ],
     "language": "python",
     "metadata": {},
     "outputs": [],
     "prompt_number": 14
    },
    {
     "cell_type": "code",
     "collapsed": false,
     "input": [
      "Fourier3alto=np.fft.fft2(Im3)\n",
      "Fourier3bajo=np.fft.fft2(Im3)\n",
      "#Transformadas de Fourier para pasaltos y pasabajos"
     ],
     "language": "python",
     "metadata": {},
     "outputs": [],
     "prompt_number": 15
    },
    {
     "cell_type": "code",
     "collapsed": false,
     "input": [
      "fila,col=Im3.shape"
     ],
     "language": "python",
     "metadata": {},
     "outputs": [],
     "prompt_number": 19
    },
    {
     "cell_type": "code",
     "collapsed": false,
     "input": [
      "#Con pasaltos\n",
      "for i in range (fila3):\n",
      "    for j in range (col3):\n",
      "        if( (((i)**2 + (j)**2))**0.5 > maxfrec):\n",
      "            Fourier3alto[i][j] = 0\n",
      "            #Con pasabajos\n",
      "for i in range (fila3):\n",
      "    for j in range (col3):\n",
      "        if( (((i)**2 + (j)**2))**0.5 < minfrec):\n",
      "            Fourier3bajo[i][j] = 0"
     ],
     "language": "python",
     "metadata": {},
     "outputs": [],
     "prompt_number": 17
    },
    {
     "cell_type": "code",
     "collapsed": false,
     "input": [
      "imshow(Fourier3alto[:,:], cmap = cm.Greys_r)\n",
      "plt.title('Imagen Pasaltos Fourier', fontsize=12)\n",
      "imshow(Fourier3bajo[:,:], cmap = cm.Greys_r)\n",
      "plt.title('Imagen Pasabajos Fourier', fontsize=12)"
     ],
     "language": "python",
     "metadata": {},
     "outputs": [],
     "prompt_number": 18
    },
    {
     "cell_type": "code",
     "collapsed": false,
     "input": [
      "Ifourieralto3=np.fft.ifft2(Fourier3alto)\n",
      "Ifourierbajo3=np.fft.ifft2(Fourier3bajo)\n",
      "\n",
      "imshow(Ifourieralto3[:,:], cmap = cm.Greys_r)\n",
      "plt.title('Imagen Pasaltos', fontsize=12)\n",
      "imshow(Ifourierbajo3[:,:], cmap = cm.Greys_r)\n",
      "plt.title('Imagen Pasabajos', fontsize=12)"
     ],
     "language": "python",
     "metadata": {},
     "outputs": [],
     "prompt_number": 18
    },
    {
     "cell_type": "code",
     "collapsed": false,
     "input": [],
     "language": "python",
     "metadata": {},
     "outputs": [],
     "prompt_number": 18
    },
    {
     "cell_type": "code",
     "collapsed": false,
     "input": [],
     "language": "python",
     "metadata": {},
     "outputs": []
    }
   ],
   "metadata": {}
  }
 ]
}